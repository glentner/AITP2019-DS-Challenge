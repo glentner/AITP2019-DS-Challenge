{
 "cells": [
  {
   "cell_type": "code",
   "execution_count": 1,
   "metadata": {},
   "outputs": [],
   "source": [
    "import pandas as pd\n",
    "import numpy as np"
   ]
  },
  {
   "cell_type": "code",
   "execution_count": 2,
   "metadata": {},
   "outputs": [
    {
     "name": "stdout",
     "output_type": "stream",
     "text": [
      "total 77G\r\n",
      "-rw-r--r-- 1 train52 student  76G Mar 23 10:05 gsod.obs.csv\r\n",
      "-rw-r--r-- 1 train52 student 2.1M Mar 23 10:05 gsod.stn.csv\r\n",
      "-rw-r--r-- 1 train52 student 6.9K Mar 23 10:52 gsod.stn_onlyIN.csv\r\n",
      "-rw-r--r-- 1 train52 student 577M Mar 23 13:09 obs_IN.csv\r\n"
     ]
    }
   ],
   "source": [
    "! ls -lh /scratch/brown/train52/data/"
   ]
  },
  {
   "cell_type": "code",
   "execution_count": 3,
   "metadata": {},
   "outputs": [
    {
     "data": {
      "text/html": [
       "<div>\n",
       "<style scoped>\n",
       "    .dataframe tbody tr th:only-of-type {\n",
       "        vertical-align: middle;\n",
       "    }\n",
       "\n",
       "    .dataframe tbody tr th {\n",
       "        vertical-align: top;\n",
       "    }\n",
       "\n",
       "    .dataframe thead th {\n",
       "        text-align: right;\n",
       "    }\n",
       "</style>\n",
       "<table border=\"1\" class=\"dataframe\">\n",
       "  <thead>\n",
       "    <tr style=\"text-align: right;\">\n",
       "      <th></th>\n",
       "      <th>call_name</th>\n",
       "      <th>country</th>\n",
       "      <th>date_end</th>\n",
       "      <th>date_start</th>\n",
       "      <th>datetime</th>\n",
       "      <th>elevation</th>\n",
       "      <th>latitude</th>\n",
       "      <th>longitude</th>\n",
       "      <th>measure_id</th>\n",
       "      <th>measure_ref</th>\n",
       "      <th>measure_value</th>\n",
       "      <th>state</th>\n",
       "      <th>station_id</th>\n",
       "      <th>station_name</th>\n",
       "      <th>wban_id</th>\n",
       "    </tr>\n",
       "  </thead>\n",
       "  <tbody>\n",
       "    <tr>\n",
       "      <th>0</th>\n",
       "      <td>KBAK</td>\n",
       "      <td>US</td>\n",
       "      <td>19900206</td>\n",
       "      <td>19430501</td>\n",
       "      <td>1943/05/01</td>\n",
       "      <td>199.9</td>\n",
       "      <td>39.267</td>\n",
       "      <td>-85.9</td>\n",
       "      <td>2.0</td>\n",
       "      <td>18.0</td>\n",
       "      <td>24.4</td>\n",
       "      <td>IN</td>\n",
       "      <td>724361</td>\n",
       "      <td>COLUMBUS BAKALAR</td>\n",
       "      <td>13803</td>\n",
       "    </tr>\n",
       "    <tr>\n",
       "      <th>1</th>\n",
       "      <td>KBAK</td>\n",
       "      <td>US</td>\n",
       "      <td>19900206</td>\n",
       "      <td>19430501</td>\n",
       "      <td>1943/05/01</td>\n",
       "      <td>199.9</td>\n",
       "      <td>39.267</td>\n",
       "      <td>-85.9</td>\n",
       "      <td>14.0</td>\n",
       "      <td>0.0</td>\n",
       "      <td>0.0</td>\n",
       "      <td>IN</td>\n",
       "      <td>724361</td>\n",
       "      <td>COLUMBUS BAKALAR</td>\n",
       "      <td>13803</td>\n",
       "    </tr>\n",
       "    <tr>\n",
       "      <th>2</th>\n",
       "      <td>KBAK</td>\n",
       "      <td>US</td>\n",
       "      <td>19900206</td>\n",
       "      <td>19430501</td>\n",
       "      <td>1943/05/01</td>\n",
       "      <td>199.9</td>\n",
       "      <td>39.267</td>\n",
       "      <td>-85.9</td>\n",
       "      <td>10.0</td>\n",
       "      <td>1.0</td>\n",
       "      <td>33.4</td>\n",
       "      <td>IN</td>\n",
       "      <td>724361</td>\n",
       "      <td>COLUMBUS BAKALAR</td>\n",
       "      <td>13803</td>\n",
       "    </tr>\n",
       "    <tr>\n",
       "      <th>3</th>\n",
       "      <td>KBAK</td>\n",
       "      <td>US</td>\n",
       "      <td>19900206</td>\n",
       "      <td>19430501</td>\n",
       "      <td>1943/05/01</td>\n",
       "      <td>199.9</td>\n",
       "      <td>39.267</td>\n",
       "      <td>-85.9</td>\n",
       "      <td>11.0</td>\n",
       "      <td>9.0</td>\n",
       "      <td>0.0</td>\n",
       "      <td>IN</td>\n",
       "      <td>724361</td>\n",
       "      <td>COLUMBUS BAKALAR</td>\n",
       "      <td>13803</td>\n",
       "    </tr>\n",
       "    <tr>\n",
       "      <th>4</th>\n",
       "      <td>KBAK</td>\n",
       "      <td>US</td>\n",
       "      <td>19900206</td>\n",
       "      <td>19430501</td>\n",
       "      <td>1943/05/01</td>\n",
       "      <td>199.9</td>\n",
       "      <td>39.267</td>\n",
       "      <td>-85.9</td>\n",
       "      <td>15.0</td>\n",
       "      <td>0.0</td>\n",
       "      <td>0.0</td>\n",
       "      <td>IN</td>\n",
       "      <td>724361</td>\n",
       "      <td>COLUMBUS BAKALAR</td>\n",
       "      <td>13803</td>\n",
       "    </tr>\n",
       "    <tr>\n",
       "      <th>5</th>\n",
       "      <td>KBAK</td>\n",
       "      <td>US</td>\n",
       "      <td>19900206</td>\n",
       "      <td>19430501</td>\n",
       "      <td>1943/05/01</td>\n",
       "      <td>199.9</td>\n",
       "      <td>39.267</td>\n",
       "      <td>-85.9</td>\n",
       "      <td>9.0</td>\n",
       "      <td>1.0</td>\n",
       "      <td>55.4</td>\n",
       "      <td>IN</td>\n",
       "      <td>724361</td>\n",
       "      <td>COLUMBUS BAKALAR</td>\n",
       "      <td>13803</td>\n",
       "    </tr>\n",
       "    <tr>\n",
       "      <th>6</th>\n",
       "      <td>KBAK</td>\n",
       "      <td>US</td>\n",
       "      <td>19900206</td>\n",
       "      <td>19430501</td>\n",
       "      <td>1943/05/01</td>\n",
       "      <td>199.9</td>\n",
       "      <td>39.267</td>\n",
       "      <td>-85.9</td>\n",
       "      <td>6.0</td>\n",
       "      <td>18.0</td>\n",
       "      <td>5.2</td>\n",
       "      <td>IN</td>\n",
       "      <td>724361</td>\n",
       "      <td>COLUMBUS BAKALAR</td>\n",
       "      <td>13803</td>\n",
       "    </tr>\n",
       "    <tr>\n",
       "      <th>7</th>\n",
       "      <td>KBAK</td>\n",
       "      <td>US</td>\n",
       "      <td>19900206</td>\n",
       "      <td>19430501</td>\n",
       "      <td>1943/05/01</td>\n",
       "      <td>199.9</td>\n",
       "      <td>39.267</td>\n",
       "      <td>-85.9</td>\n",
       "      <td>18.0</td>\n",
       "      <td>0.0</td>\n",
       "      <td>0.0</td>\n",
       "      <td>IN</td>\n",
       "      <td>724361</td>\n",
       "      <td>COLUMBUS BAKALAR</td>\n",
       "      <td>13803</td>\n",
       "    </tr>\n",
       "    <tr>\n",
       "      <th>8</th>\n",
       "      <td>KBAK</td>\n",
       "      <td>US</td>\n",
       "      <td>19900206</td>\n",
       "      <td>19430501</td>\n",
       "      <td>1943/05/01</td>\n",
       "      <td>199.9</td>\n",
       "      <td>39.267</td>\n",
       "      <td>-85.9</td>\n",
       "      <td>5.0</td>\n",
       "      <td>18.0</td>\n",
       "      <td>73.7</td>\n",
       "      <td>IN</td>\n",
       "      <td>724361</td>\n",
       "      <td>COLUMBUS BAKALAR</td>\n",
       "      <td>13803</td>\n",
       "    </tr>\n",
       "    <tr>\n",
       "      <th>9</th>\n",
       "      <td>KBAK</td>\n",
       "      <td>US</td>\n",
       "      <td>19900206</td>\n",
       "      <td>19430501</td>\n",
       "      <td>1943/05/01</td>\n",
       "      <td>199.9</td>\n",
       "      <td>39.267</td>\n",
       "      <td>-85.9</td>\n",
       "      <td>17.0</td>\n",
       "      <td>0.0</td>\n",
       "      <td>0.0</td>\n",
       "      <td>IN</td>\n",
       "      <td>724361</td>\n",
       "      <td>COLUMBUS BAKALAR</td>\n",
       "      <td>13803</td>\n",
       "    </tr>\n",
       "  </tbody>\n",
       "</table>\n",
       "</div>"
      ],
      "text/plain": [
       "  call_name country  date_end  date_start    datetime  elevation  latitude  \\\n",
       "0      KBAK      US  19900206    19430501  1943/05/01      199.9    39.267   \n",
       "1      KBAK      US  19900206    19430501  1943/05/01      199.9    39.267   \n",
       "2      KBAK      US  19900206    19430501  1943/05/01      199.9    39.267   \n",
       "3      KBAK      US  19900206    19430501  1943/05/01      199.9    39.267   \n",
       "4      KBAK      US  19900206    19430501  1943/05/01      199.9    39.267   \n",
       "5      KBAK      US  19900206    19430501  1943/05/01      199.9    39.267   \n",
       "6      KBAK      US  19900206    19430501  1943/05/01      199.9    39.267   \n",
       "7      KBAK      US  19900206    19430501  1943/05/01      199.9    39.267   \n",
       "8      KBAK      US  19900206    19430501  1943/05/01      199.9    39.267   \n",
       "9      KBAK      US  19900206    19430501  1943/05/01      199.9    39.267   \n",
       "\n",
       "   longitude  measure_id  measure_ref  measure_value state  station_id  \\\n",
       "0      -85.9         2.0         18.0           24.4    IN      724361   \n",
       "1      -85.9        14.0          0.0            0.0    IN      724361   \n",
       "2      -85.9        10.0          1.0           33.4    IN      724361   \n",
       "3      -85.9        11.0          9.0            0.0    IN      724361   \n",
       "4      -85.9        15.0          0.0            0.0    IN      724361   \n",
       "5      -85.9         9.0          1.0           55.4    IN      724361   \n",
       "6      -85.9         6.0         18.0            5.2    IN      724361   \n",
       "7      -85.9        18.0          0.0            0.0    IN      724361   \n",
       "8      -85.9         5.0         18.0           73.7    IN      724361   \n",
       "9      -85.9        17.0          0.0            0.0    IN      724361   \n",
       "\n",
       "       station_name  wban_id  \n",
       "0  COLUMBUS BAKALAR    13803  \n",
       "1  COLUMBUS BAKALAR    13803  \n",
       "2  COLUMBUS BAKALAR    13803  \n",
       "3  COLUMBUS BAKALAR    13803  \n",
       "4  COLUMBUS BAKALAR    13803  \n",
       "5  COLUMBUS BAKALAR    13803  \n",
       "6  COLUMBUS BAKALAR    13803  \n",
       "7  COLUMBUS BAKALAR    13803  \n",
       "8  COLUMBUS BAKALAR    13803  \n",
       "9  COLUMBUS BAKALAR    13803  "
      ]
     },
     "execution_count": 3,
     "metadata": {},
     "output_type": "execute_result"
    }
   ],
   "source": [
    "data = pd.read_csv(\"/scratch/brown/train52/data/obs_IN.csv\")\n",
    "data.head(10)"
   ]
  },
  {
   "cell_type": "code",
   "execution_count": 4,
   "metadata": {},
   "outputs": [],
   "source": [
    "data_new = data.drop(['call_name', 'date_end', 'date_start'], axis=1)"
   ]
  },
  {
   "cell_type": "code",
   "execution_count": 5,
   "metadata": {},
   "outputs": [
    {
     "name": "stdout",
     "output_type": "stream",
     "text": [
      "country null  0\n",
      "datetime null  0\n",
      "elevation null  0\n",
      "latitude null  0\n",
      "longitude null  0\n",
      "measure_id null  0\n",
      "measure_ref null  0\n",
      "measure_value null  0\n",
      "state null  0\n",
      "station_id null  0\n",
      "station_name null  0\n",
      "wban_id null  0\n"
     ]
    }
   ],
   "source": [
    "for cols in list(data_new.columns):\n",
    "    print(cols, \"null \", data_new[cols].isnull().sum())"
   ]
  },
  {
   "cell_type": "code",
   "execution_count": 6,
   "metadata": {},
   "outputs": [
    {
     "data": {
      "text/html": [
       "<div>\n",
       "<style scoped>\n",
       "    .dataframe tbody tr th:only-of-type {\n",
       "        vertical-align: middle;\n",
       "    }\n",
       "\n",
       "    .dataframe tbody tr th {\n",
       "        vertical-align: top;\n",
       "    }\n",
       "\n",
       "    .dataframe thead th {\n",
       "        text-align: right;\n",
       "    }\n",
       "</style>\n",
       "<table border=\"1\" class=\"dataframe\">\n",
       "  <thead>\n",
       "    <tr style=\"text-align: right;\">\n",
       "      <th></th>\n",
       "      <th>country</th>\n",
       "      <th>datetime</th>\n",
       "      <th>elevation</th>\n",
       "      <th>latitude</th>\n",
       "      <th>longitude</th>\n",
       "      <th>measure_id</th>\n",
       "      <th>measure_ref</th>\n",
       "      <th>measure_value</th>\n",
       "      <th>state</th>\n",
       "      <th>station_id</th>\n",
       "      <th>station_name</th>\n",
       "      <th>wban_id</th>\n",
       "    </tr>\n",
       "  </thead>\n",
       "  <tbody>\n",
       "    <tr>\n",
       "      <th>0</th>\n",
       "      <td>US</td>\n",
       "      <td>1943/05/01</td>\n",
       "      <td>199.9</td>\n",
       "      <td>39.267</td>\n",
       "      <td>-85.9</td>\n",
       "      <td>2.0</td>\n",
       "      <td>18.0</td>\n",
       "      <td>24.4</td>\n",
       "      <td>IN</td>\n",
       "      <td>724361</td>\n",
       "      <td>COLUMBUS BAKALAR</td>\n",
       "      <td>13803</td>\n",
       "    </tr>\n",
       "    <tr>\n",
       "      <th>1</th>\n",
       "      <td>US</td>\n",
       "      <td>1943/05/01</td>\n",
       "      <td>199.9</td>\n",
       "      <td>39.267</td>\n",
       "      <td>-85.9</td>\n",
       "      <td>14.0</td>\n",
       "      <td>0.0</td>\n",
       "      <td>0.0</td>\n",
       "      <td>IN</td>\n",
       "      <td>724361</td>\n",
       "      <td>COLUMBUS BAKALAR</td>\n",
       "      <td>13803</td>\n",
       "    </tr>\n",
       "    <tr>\n",
       "      <th>2</th>\n",
       "      <td>US</td>\n",
       "      <td>1943/05/01</td>\n",
       "      <td>199.9</td>\n",
       "      <td>39.267</td>\n",
       "      <td>-85.9</td>\n",
       "      <td>10.0</td>\n",
       "      <td>1.0</td>\n",
       "      <td>33.4</td>\n",
       "      <td>IN</td>\n",
       "      <td>724361</td>\n",
       "      <td>COLUMBUS BAKALAR</td>\n",
       "      <td>13803</td>\n",
       "    </tr>\n",
       "    <tr>\n",
       "      <th>3</th>\n",
       "      <td>US</td>\n",
       "      <td>1943/05/01</td>\n",
       "      <td>199.9</td>\n",
       "      <td>39.267</td>\n",
       "      <td>-85.9</td>\n",
       "      <td>11.0</td>\n",
       "      <td>9.0</td>\n",
       "      <td>0.0</td>\n",
       "      <td>IN</td>\n",
       "      <td>724361</td>\n",
       "      <td>COLUMBUS BAKALAR</td>\n",
       "      <td>13803</td>\n",
       "    </tr>\n",
       "    <tr>\n",
       "      <th>4</th>\n",
       "      <td>US</td>\n",
       "      <td>1943/05/01</td>\n",
       "      <td>199.9</td>\n",
       "      <td>39.267</td>\n",
       "      <td>-85.9</td>\n",
       "      <td>15.0</td>\n",
       "      <td>0.0</td>\n",
       "      <td>0.0</td>\n",
       "      <td>IN</td>\n",
       "      <td>724361</td>\n",
       "      <td>COLUMBUS BAKALAR</td>\n",
       "      <td>13803</td>\n",
       "    </tr>\n",
       "    <tr>\n",
       "      <th>5</th>\n",
       "      <td>US</td>\n",
       "      <td>1943/05/01</td>\n",
       "      <td>199.9</td>\n",
       "      <td>39.267</td>\n",
       "      <td>-85.9</td>\n",
       "      <td>9.0</td>\n",
       "      <td>1.0</td>\n",
       "      <td>55.4</td>\n",
       "      <td>IN</td>\n",
       "      <td>724361</td>\n",
       "      <td>COLUMBUS BAKALAR</td>\n",
       "      <td>13803</td>\n",
       "    </tr>\n",
       "    <tr>\n",
       "      <th>6</th>\n",
       "      <td>US</td>\n",
       "      <td>1943/05/01</td>\n",
       "      <td>199.9</td>\n",
       "      <td>39.267</td>\n",
       "      <td>-85.9</td>\n",
       "      <td>6.0</td>\n",
       "      <td>18.0</td>\n",
       "      <td>5.2</td>\n",
       "      <td>IN</td>\n",
       "      <td>724361</td>\n",
       "      <td>COLUMBUS BAKALAR</td>\n",
       "      <td>13803</td>\n",
       "    </tr>\n",
       "    <tr>\n",
       "      <th>7</th>\n",
       "      <td>US</td>\n",
       "      <td>1943/05/01</td>\n",
       "      <td>199.9</td>\n",
       "      <td>39.267</td>\n",
       "      <td>-85.9</td>\n",
       "      <td>18.0</td>\n",
       "      <td>0.0</td>\n",
       "      <td>0.0</td>\n",
       "      <td>IN</td>\n",
       "      <td>724361</td>\n",
       "      <td>COLUMBUS BAKALAR</td>\n",
       "      <td>13803</td>\n",
       "    </tr>\n",
       "    <tr>\n",
       "      <th>8</th>\n",
       "      <td>US</td>\n",
       "      <td>1943/05/01</td>\n",
       "      <td>199.9</td>\n",
       "      <td>39.267</td>\n",
       "      <td>-85.9</td>\n",
       "      <td>5.0</td>\n",
       "      <td>18.0</td>\n",
       "      <td>73.7</td>\n",
       "      <td>IN</td>\n",
       "      <td>724361</td>\n",
       "      <td>COLUMBUS BAKALAR</td>\n",
       "      <td>13803</td>\n",
       "    </tr>\n",
       "    <tr>\n",
       "      <th>9</th>\n",
       "      <td>US</td>\n",
       "      <td>1943/05/01</td>\n",
       "      <td>199.9</td>\n",
       "      <td>39.267</td>\n",
       "      <td>-85.9</td>\n",
       "      <td>17.0</td>\n",
       "      <td>0.0</td>\n",
       "      <td>0.0</td>\n",
       "      <td>IN</td>\n",
       "      <td>724361</td>\n",
       "      <td>COLUMBUS BAKALAR</td>\n",
       "      <td>13803</td>\n",
       "    </tr>\n",
       "  </tbody>\n",
       "</table>\n",
       "</div>"
      ],
      "text/plain": [
       "  country    datetime  elevation  latitude  longitude  measure_id  \\\n",
       "0      US  1943/05/01      199.9    39.267      -85.9         2.0   \n",
       "1      US  1943/05/01      199.9    39.267      -85.9        14.0   \n",
       "2      US  1943/05/01      199.9    39.267      -85.9        10.0   \n",
       "3      US  1943/05/01      199.9    39.267      -85.9        11.0   \n",
       "4      US  1943/05/01      199.9    39.267      -85.9        15.0   \n",
       "5      US  1943/05/01      199.9    39.267      -85.9         9.0   \n",
       "6      US  1943/05/01      199.9    39.267      -85.9         6.0   \n",
       "7      US  1943/05/01      199.9    39.267      -85.9        18.0   \n",
       "8      US  1943/05/01      199.9    39.267      -85.9         5.0   \n",
       "9      US  1943/05/01      199.9    39.267      -85.9        17.0   \n",
       "\n",
       "   measure_ref  measure_value state  station_id      station_name  wban_id  \n",
       "0         18.0           24.4    IN      724361  COLUMBUS BAKALAR    13803  \n",
       "1          0.0            0.0    IN      724361  COLUMBUS BAKALAR    13803  \n",
       "2          1.0           33.4    IN      724361  COLUMBUS BAKALAR    13803  \n",
       "3          9.0            0.0    IN      724361  COLUMBUS BAKALAR    13803  \n",
       "4          0.0            0.0    IN      724361  COLUMBUS BAKALAR    13803  \n",
       "5          1.0           55.4    IN      724361  COLUMBUS BAKALAR    13803  \n",
       "6         18.0            5.2    IN      724361  COLUMBUS BAKALAR    13803  \n",
       "7          0.0            0.0    IN      724361  COLUMBUS BAKALAR    13803  \n",
       "8         18.0           73.7    IN      724361  COLUMBUS BAKALAR    13803  \n",
       "9          0.0            0.0    IN      724361  COLUMBUS BAKALAR    13803  "
      ]
     },
     "execution_count": 6,
     "metadata": {},
     "output_type": "execute_result"
    }
   ],
   "source": [
    "data_new.head(10)"
   ]
  },
  {
   "cell_type": "code",
   "execution_count": 7,
   "metadata": {},
   "outputs": [
    {
     "name": "stdout",
     "output_type": "stream",
     "text": [
      "<class 'pandas.core.frame.DataFrame'>\n",
      "RangeIndex: 5409309 entries, 0 to 5409308\n",
      "Data columns (total 12 columns):\n",
      "country          object\n",
      "datetime         object\n",
      "elevation        float64\n",
      "latitude         float64\n",
      "longitude        float64\n",
      "measure_id       float64\n",
      "measure_ref      float64\n",
      "measure_value    float64\n",
      "state            object\n",
      "station_id       int64\n",
      "station_name     object\n",
      "wban_id          int64\n",
      "dtypes: float64(6), int64(2), object(4)\n",
      "memory usage: 495.2+ MB\n"
     ]
    }
   ],
   "source": [
    "data_new.info()"
   ]
  },
  {
   "cell_type": "code",
   "execution_count": 8,
   "metadata": {
    "scrolled": true
   },
   "outputs": [
    {
     "name": "stdout",
     "output_type": "stream",
     "text": [
      "IN    5409309\n",
      "Name: state, dtype: int64\n",
      "US    5409309\n",
      "Name: country, dtype: int64\n"
     ]
    }
   ],
   "source": [
    "print(data_new['state'].value_counts())\n",
    "print(data_new['country'].value_counts())"
   ]
  },
  {
   "cell_type": "code",
   "execution_count": 9,
   "metadata": {},
   "outputs": [
    {
     "data": {
      "text/plain": [
       "(5409309, 12)"
      ]
     },
     "execution_count": 9,
     "metadata": {},
     "output_type": "execute_result"
    }
   ],
   "source": [
    "data_new.shape"
   ]
  },
  {
   "cell_type": "code",
   "execution_count": 29,
   "metadata": {},
   "outputs": [],
   "source": [
    "#Mean Temp\n",
    "criterion_temp = data_new['measure_id'] == 1.0\n",
    "# max temp\n",
    "criterion_mtemp = data_new['measure_id'] == 9.0\n",
    "#max gust speed\n",
    "criterion_gust_speed = data_new['measure_id'] == 8.0\n",
    "#criterion_ppt = data_new['measure_id'] == 8.0\n",
    "data_temp = data_new[criterion_temp]\n",
    "data_mtemp = data_new[criterion_mtemp]\n",
    "data_gust_speed = data_new[criterion_gust_speed]"
   ]
  },
  {
   "cell_type": "code",
   "execution_count": 30,
   "metadata": {},
   "outputs": [
    {
     "name": "stdout",
     "output_type": "stream",
     "text": [
      "(350297, 12)\n",
      "(350094, 12)\n",
      "(139885, 12)\n"
     ]
    }
   ],
   "source": [
    "print(data_temp.shape)\n",
    "print(data_mtemp.shape)\n",
    "print(data_gust_speed.shape)"
   ]
  },
  {
   "cell_type": "code",
   "execution_count": 12,
   "metadata": {},
   "outputs": [
    {
     "data": {
      "text/html": [
       "<div>\n",
       "<style scoped>\n",
       "    .dataframe tbody tr th:only-of-type {\n",
       "        vertical-align: middle;\n",
       "    }\n",
       "\n",
       "    .dataframe tbody tr th {\n",
       "        vertical-align: top;\n",
       "    }\n",
       "\n",
       "    .dataframe thead th {\n",
       "        text-align: right;\n",
       "    }\n",
       "</style>\n",
       "<table border=\"1\" class=\"dataframe\">\n",
       "  <thead>\n",
       "    <tr style=\"text-align: right;\">\n",
       "      <th></th>\n",
       "      <th>country</th>\n",
       "      <th>datetime</th>\n",
       "      <th>elevation</th>\n",
       "      <th>latitude</th>\n",
       "      <th>longitude</th>\n",
       "      <th>measure_id</th>\n",
       "      <th>measure_ref</th>\n",
       "      <th>measure_value</th>\n",
       "      <th>state</th>\n",
       "      <th>station_id</th>\n",
       "      <th>station_name</th>\n",
       "      <th>wban_id</th>\n",
       "    </tr>\n",
       "  </thead>\n",
       "  <tbody>\n",
       "    <tr>\n",
       "      <th>12</th>\n",
       "      <td>US</td>\n",
       "      <td>1943/05/01</td>\n",
       "      <td>199.9</td>\n",
       "      <td>39.267</td>\n",
       "      <td>-85.9</td>\n",
       "      <td>1.0</td>\n",
       "      <td>18.0</td>\n",
       "      <td>45.0</td>\n",
       "      <td>IN</td>\n",
       "      <td>724361</td>\n",
       "      <td>COLUMBUS BAKALAR</td>\n",
       "      <td>13803</td>\n",
       "    </tr>\n",
       "    <tr>\n",
       "      <th>24</th>\n",
       "      <td>US</td>\n",
       "      <td>1943/12/13</td>\n",
       "      <td>199.9</td>\n",
       "      <td>39.267</td>\n",
       "      <td>-85.9</td>\n",
       "      <td>1.0</td>\n",
       "      <td>24.0</td>\n",
       "      <td>21.6</td>\n",
       "      <td>IN</td>\n",
       "      <td>724361</td>\n",
       "      <td>COLUMBUS BAKALAR</td>\n",
       "      <td>13803</td>\n",
       "    </tr>\n",
       "    <tr>\n",
       "      <th>36</th>\n",
       "      <td>US</td>\n",
       "      <td>1943/05/02</td>\n",
       "      <td>199.9</td>\n",
       "      <td>39.267</td>\n",
       "      <td>-85.9</td>\n",
       "      <td>1.0</td>\n",
       "      <td>24.0</td>\n",
       "      <td>51.1</td>\n",
       "      <td>IN</td>\n",
       "      <td>724361</td>\n",
       "      <td>COLUMBUS BAKALAR</td>\n",
       "      <td>13803</td>\n",
       "    </tr>\n",
       "    <tr>\n",
       "      <th>53</th>\n",
       "      <td>US</td>\n",
       "      <td>1943/05/03</td>\n",
       "      <td>199.9</td>\n",
       "      <td>39.267</td>\n",
       "      <td>-85.9</td>\n",
       "      <td>1.0</td>\n",
       "      <td>24.0</td>\n",
       "      <td>57.6</td>\n",
       "      <td>IN</td>\n",
       "      <td>724361</td>\n",
       "      <td>COLUMBUS BAKALAR</td>\n",
       "      <td>13803</td>\n",
       "    </tr>\n",
       "    <tr>\n",
       "      <th>63</th>\n",
       "      <td>US</td>\n",
       "      <td>1943/05/05</td>\n",
       "      <td>199.9</td>\n",
       "      <td>39.267</td>\n",
       "      <td>-85.9</td>\n",
       "      <td>1.0</td>\n",
       "      <td>24.0</td>\n",
       "      <td>66.7</td>\n",
       "      <td>IN</td>\n",
       "      <td>724361</td>\n",
       "      <td>COLUMBUS BAKALAR</td>\n",
       "      <td>13803</td>\n",
       "    </tr>\n",
       "    <tr>\n",
       "      <th>83</th>\n",
       "      <td>US</td>\n",
       "      <td>1943/05/06</td>\n",
       "      <td>199.9</td>\n",
       "      <td>39.267</td>\n",
       "      <td>-85.9</td>\n",
       "      <td>1.0</td>\n",
       "      <td>24.0</td>\n",
       "      <td>75.1</td>\n",
       "      <td>IN</td>\n",
       "      <td>724361</td>\n",
       "      <td>COLUMBUS BAKALAR</td>\n",
       "      <td>13803</td>\n",
       "    </tr>\n",
       "    <tr>\n",
       "      <th>86</th>\n",
       "      <td>US</td>\n",
       "      <td>1943/06/02</td>\n",
       "      <td>199.9</td>\n",
       "      <td>39.267</td>\n",
       "      <td>-85.9</td>\n",
       "      <td>1.0</td>\n",
       "      <td>24.0</td>\n",
       "      <td>79.1</td>\n",
       "      <td>IN</td>\n",
       "      <td>724361</td>\n",
       "      <td>COLUMBUS BAKALAR</td>\n",
       "      <td>13803</td>\n",
       "    </tr>\n",
       "    <tr>\n",
       "      <th>107</th>\n",
       "      <td>US</td>\n",
       "      <td>1943/06/04</td>\n",
       "      <td>199.9</td>\n",
       "      <td>39.267</td>\n",
       "      <td>-85.9</td>\n",
       "      <td>1.0</td>\n",
       "      <td>24.0</td>\n",
       "      <td>79.7</td>\n",
       "      <td>IN</td>\n",
       "      <td>724361</td>\n",
       "      <td>COLUMBUS BAKALAR</td>\n",
       "      <td>13803</td>\n",
       "    </tr>\n",
       "    <tr>\n",
       "      <th>122</th>\n",
       "      <td>US</td>\n",
       "      <td>1943/06/09</td>\n",
       "      <td>199.9</td>\n",
       "      <td>39.267</td>\n",
       "      <td>-85.9</td>\n",
       "      <td>1.0</td>\n",
       "      <td>24.0</td>\n",
       "      <td>70.2</td>\n",
       "      <td>IN</td>\n",
       "      <td>724361</td>\n",
       "      <td>COLUMBUS BAKALAR</td>\n",
       "      <td>13803</td>\n",
       "    </tr>\n",
       "    <tr>\n",
       "      <th>127</th>\n",
       "      <td>US</td>\n",
       "      <td>1943/06/18</td>\n",
       "      <td>199.9</td>\n",
       "      <td>39.267</td>\n",
       "      <td>-85.9</td>\n",
       "      <td>1.0</td>\n",
       "      <td>24.0</td>\n",
       "      <td>71.9</td>\n",
       "      <td>IN</td>\n",
       "      <td>724361</td>\n",
       "      <td>COLUMBUS BAKALAR</td>\n",
       "      <td>13803</td>\n",
       "    </tr>\n",
       "  </tbody>\n",
       "</table>\n",
       "</div>"
      ],
      "text/plain": [
       "    country    datetime  elevation  latitude  longitude  measure_id  \\\n",
       "12       US  1943/05/01      199.9    39.267      -85.9         1.0   \n",
       "24       US  1943/12/13      199.9    39.267      -85.9         1.0   \n",
       "36       US  1943/05/02      199.9    39.267      -85.9         1.0   \n",
       "53       US  1943/05/03      199.9    39.267      -85.9         1.0   \n",
       "63       US  1943/05/05      199.9    39.267      -85.9         1.0   \n",
       "83       US  1943/05/06      199.9    39.267      -85.9         1.0   \n",
       "86       US  1943/06/02      199.9    39.267      -85.9         1.0   \n",
       "107      US  1943/06/04      199.9    39.267      -85.9         1.0   \n",
       "122      US  1943/06/09      199.9    39.267      -85.9         1.0   \n",
       "127      US  1943/06/18      199.9    39.267      -85.9         1.0   \n",
       "\n",
       "     measure_ref  measure_value state  station_id      station_name  wban_id  \n",
       "12          18.0           45.0    IN      724361  COLUMBUS BAKALAR    13803  \n",
       "24          24.0           21.6    IN      724361  COLUMBUS BAKALAR    13803  \n",
       "36          24.0           51.1    IN      724361  COLUMBUS BAKALAR    13803  \n",
       "53          24.0           57.6    IN      724361  COLUMBUS BAKALAR    13803  \n",
       "63          24.0           66.7    IN      724361  COLUMBUS BAKALAR    13803  \n",
       "83          24.0           75.1    IN      724361  COLUMBUS BAKALAR    13803  \n",
       "86          24.0           79.1    IN      724361  COLUMBUS BAKALAR    13803  \n",
       "107         24.0           79.7    IN      724361  COLUMBUS BAKALAR    13803  \n",
       "122         24.0           70.2    IN      724361  COLUMBUS BAKALAR    13803  \n",
       "127         24.0           71.9    IN      724361  COLUMBUS BAKALAR    13803  "
      ]
     },
     "execution_count": 12,
     "metadata": {},
     "output_type": "execute_result"
    }
   ],
   "source": [
    "data_temp.head(10)"
   ]
  },
  {
   "cell_type": "code",
   "execution_count": 32,
   "metadata": {},
   "outputs": [
    {
     "name": "stdout",
     "output_type": "stream",
     "text": [
      "        country    datetime  elevation  latitude  longitude  measure_id  \\\n",
      "3076115      US  2004/09/30      259.0    41.267    -85.833         9.0   \n",
      "\n",
      "         measure_ref  measure_value state  station_id      station_name  \\\n",
      "3076115          1.0          127.4    IN      720266  WARSAW MUNICIPAL   \n",
      "\n",
      "         wban_id  \n",
      "3076115    99999  \n",
      "        country    datetime  elevation  latitude  longitude  measure_id  \\\n",
      "4511802      US  2014/02/21      180.1    41.617    -87.417         8.0   \n",
      "\n",
      "         measure_ref  measure_value state  station_id          station_name  \\\n",
      "4511802          0.0           85.5    IN      725337  GARY/CHICAGO AIRPORT   \n",
      "\n",
      "         wban_id  \n",
      "4511802     4807  \n"
     ]
    }
   ],
   "source": [
    "# Max observable temperature\n",
    "print(data_mtemp.sort_values(by=['measure_value'], ascending=False).head(1))\n",
    "# Max gust speed\n",
    "print(data_gust_speed.sort_values(by=['measure_value'], ascending=False).head(1))"
   ]
  },
  {
   "cell_type": "code",
   "execution_count": 14,
   "metadata": {},
   "outputs": [],
   "source": [
    "date = data_temp.datetime.apply(str)\n",
    "date = date.str.split('[/-]', expand=True)"
   ]
  },
  {
   "cell_type": "code",
   "execution_count": 15,
   "metadata": {},
   "outputs": [
    {
     "name": "stderr",
     "output_type": "stream",
     "text": [
      "/apps/cent7/anaconda/5.1.0-py36/lib/python3.6/site-packages/ipykernel_launcher.py:1: SettingWithCopyWarning: \n",
      "A value is trying to be set on a copy of a slice from a DataFrame.\n",
      "Try using .loc[row_indexer,col_indexer] = value instead\n",
      "\n",
      "See the caveats in the documentation: http://pandas.pydata.org/pandas-docs/stable/indexing.html#indexing-view-versus-copy\n",
      "  \"\"\"Entry point for launching an IPython kernel.\n",
      "/apps/cent7/anaconda/5.1.0-py36/lib/python3.6/site-packages/ipykernel_launcher.py:2: SettingWithCopyWarning: \n",
      "A value is trying to be set on a copy of a slice from a DataFrame.\n",
      "Try using .loc[row_indexer,col_indexer] = value instead\n",
      "\n",
      "See the caveats in the documentation: http://pandas.pydata.org/pandas-docs/stable/indexing.html#indexing-view-versus-copy\n",
      "  \n"
     ]
    }
   ],
   "source": [
    "data_temp['year'] = date[0]\n",
    "data_temp['month'] = date[1]"
   ]
  },
  {
   "cell_type": "code",
   "execution_count": 16,
   "metadata": {},
   "outputs": [],
   "source": [
    "k1_temp = np.sort(data_temp['year'].unique())"
   ]
  },
  {
   "cell_type": "code",
   "execution_count": 17,
   "metadata": {},
   "outputs": [],
   "source": [
    "k2_temp = data_temp.groupby('year', as_index=False)['measure_value'].mean()\n",
    "k3_temp = data_temp.groupby('year', as_index=False)['measure_ref'].mean()"
   ]
  },
  {
   "cell_type": "code",
   "execution_count": 18,
   "metadata": {},
   "outputs": [],
   "source": [
    "import matplotlib.pyplot as plt"
   ]
  },
  {
   "cell_type": "code",
   "execution_count": 19,
   "metadata": {},
   "outputs": [],
   "source": [
    "k2_temp = k2_temp.values\n",
    "k3_temp = k3_temp.values"
   ]
  },
  {
   "cell_type": "code",
   "execution_count": 20,
   "metadata": {},
   "outputs": [
    {
     "data": {
      "image/png": "[encoded data removed]",
      "text/plain": [
       "<matplotlib.figure.Figure at 0x2aaf54685ba8>"
      ]
     },
     "metadata": {},
     "output_type": "display_data"
    }
   ],
   "source": [
    "fig, ax1 = plt.subplots()\n",
    "ax1.plot(k2_temp[::5,0], k2_temp[::5,1], label=\"Mean Temp\")\n",
    "ax2 = ax1.twinx()\n",
    "ax2.plot(k3_temp[::5,0], k3_temp[::5,1], color='red', label=\"Counts\")\n",
    "ax1.set_xlabel(\"Year\")\n",
    "ax1.set_ylabel(\"Mean Temperature\")\n",
    "ax2.set_ylabel(\"Count Mean Temperature\")\n",
    "ax1.set_xticklabels(k3_temp[::5,0], rotation=45)\n",
    "plt.legend(loc='upper right', bbox_to_anchor=[1,1])\n",
    "plt.show()\n",
    "#1967 blizzard"
   ]
  },
  {
   "cell_type": "code",
   "execution_count": 21,
   "metadata": {},
   "outputs": [],
   "source": [
    "#Snow \n",
    "criterion_snow = data_new['measure_id'] == 12.0\n",
    "data_snow = data_new[criterion_snow]"
   ]
  },
  {
   "cell_type": "code",
   "execution_count": 22,
   "metadata": {},
   "outputs": [],
   "source": [
    "date = data_snow.datetime.apply(str)\n",
    "date = date.str.split('[/-]', expand=True)"
   ]
  },
  {
   "cell_type": "code",
   "execution_count": 23,
   "metadata": {},
   "outputs": [
    {
     "name": "stderr",
     "output_type": "stream",
     "text": [
      "/apps/cent7/anaconda/5.1.0-py36/lib/python3.6/site-packages/ipykernel_launcher.py:1: SettingWithCopyWarning: \n",
      "A value is trying to be set on a copy of a slice from a DataFrame.\n",
      "Try using .loc[row_indexer,col_indexer] = value instead\n",
      "\n",
      "See the caveats in the documentation: http://pandas.pydata.org/pandas-docs/stable/indexing.html#indexing-view-versus-copy\n",
      "  \"\"\"Entry point for launching an IPython kernel.\n",
      "/apps/cent7/anaconda/5.1.0-py36/lib/python3.6/site-packages/ipykernel_launcher.py:2: SettingWithCopyWarning: \n",
      "A value is trying to be set on a copy of a slice from a DataFrame.\n",
      "Try using .loc[row_indexer,col_indexer] = value instead\n",
      "\n",
      "See the caveats in the documentation: http://pandas.pydata.org/pandas-docs/stable/indexing.html#indexing-view-versus-copy\n",
      "  \n"
     ]
    }
   ],
   "source": [
    "data_snow['year'] = date[0]\n",
    "data_snow['month'] = date[1]"
   ]
  },
  {
   "cell_type": "code",
   "execution_count": 24,
   "metadata": {},
   "outputs": [],
   "source": [
    "k1_snow = np.sort(data_snow['year'].unique())"
   ]
  },
  {
   "cell_type": "code",
   "execution_count": 25,
   "metadata": {},
   "outputs": [],
   "source": [
    "k2_snow = data_snow.groupby('year', as_index=False)['measure_value'].mean()"
   ]
  },
  {
   "cell_type": "code",
   "execution_count": 26,
   "metadata": {},
   "outputs": [],
   "source": [
    "k2_snow = k2_snow.values"
   ]
  },
  {
   "cell_type": "code",
   "execution_count": 28,
   "metadata": {},
   "outputs": [
    {
     "data": {
      "image/png": "[encoded data removed]",
      "text/plain": [
       "<matplotlib.figure.Figure at 0x2aaf55265470>"
      ]
     },
     "metadata": {},
     "output_type": "display_data"
    }
   ],
   "source": [
    "plt.plot(k2_snow[::5,0], k2_snow[::5,1], label=\"Snow Inch\")\n",
    "plt.xlabel(\"Year\")\n",
    "plt.ylabel(\"Snowfall\")\n",
    "plt.xticks(rotation=45)\n",
    "plt.show()"
   ]
  },
  {
   "cell_type": "code",
   "execution_count": 33,
   "metadata": {},
   "outputs": [
    {
     "name": "stderr",
     "output_type": "stream",
     "text": [
      "/apps/cent7/anaconda/5.1.0-py36/lib/python3.6/site-packages/ipykernel_launcher.py:3: SettingWithCopyWarning: \n",
      "A value is trying to be set on a copy of a slice from a DataFrame.\n",
      "Try using .loc[row_indexer,col_indexer] = value instead\n",
      "\n",
      "See the caveats in the documentation: http://pandas.pydata.org/pandas-docs/stable/indexing.html#indexing-view-versus-copy\n",
      "  This is separate from the ipykernel package so we can avoid doing imports until\n",
      "/apps/cent7/anaconda/5.1.0-py36/lib/python3.6/site-packages/ipykernel_launcher.py:4: SettingWithCopyWarning: \n",
      "A value is trying to be set on a copy of a slice from a DataFrame.\n",
      "Try using .loc[row_indexer,col_indexer] = value instead\n",
      "\n",
      "See the caveats in the documentation: http://pandas.pydata.org/pandas-docs/stable/indexing.html#indexing-view-versus-copy\n",
      "  after removing the cwd from sys.path.\n"
     ]
    }
   ],
   "source": [
    "date = data_gust_speed.datetime.apply(str)\n",
    "date = date.str.split('[/-]', expand=True)\n",
    "data_gust_speed['year'] = date[0]\n",
    "data_gust_speed['month'] = date[1]"
   ]
  },
  {
   "cell_type": "code",
   "execution_count": 41,
   "metadata": {},
   "outputs": [],
   "source": [
    "k1_gust = np.sort(data_gust_speed['year'].unique())\n",
    "k2_gust = data_gust_speed.groupby('year', as_index=False)['measure_value'].mean()\n",
    "k2_gust_max= data_gust_speed.groupby('year', as_index=False)['measure_value'].max()\n",
    "k2_gust = k2_gust.values\n",
    "k2_gust_max = k2_gust_max.values"
   ]
  },
  {
   "cell_type": "code",
   "execution_count": 45,
   "metadata": {},
   "outputs": [
    {
     "data": {
      "image/png": "[encoded data removed]",
      "text/plain": [
       "<matplotlib.figure.Figure at 0x2aaf5407cb70>"
      ]
     },
     "metadata": {},
     "output_type": "display_data"
    }
   ],
   "source": [
    "fig, ax1 = plt.subplots()\n",
    "ax1.plot(k2_gust[::5,0], k2_gust[::5,1], label=\"Wind Gust\")\n",
    "ax2 = ax1.twinx()\n",
    "ax2.plot(k2_gust_max[::5,0], k2_gust_max[::5,1], label=\"Wind Gust Max\", color='red')\n",
    "ax1.set_xlabel(\"Year\")\n",
    "ax1.set_ylabel(\"Wind Gust Mean\")\n",
    "ax2.set_ylabel(\"Wind Gust Max\")\n",
    "ax1.set_xticklabels(k2_gust_max[::5,0],rotation=45)\n",
    "plt.show()"
   ]
  },
  {
   "cell_type": "code",
   "execution_count": null,
   "metadata": {},
   "outputs": [],
   "source": []
  }
 ],
 "metadata": {
  "kernelspec": {
   "display_name": "Python 3.6 [anaconda/5.1.0-py36]",
   "language": "python",
   "name": "sys_python36"
  },
  "language_info": {
   "codemirror_mode": {
    "name": "ipython",
    "version": 3
   },
   "file_extension": ".py",
   "mimetype": "text/x-python",
   "name": "python",
   "nbconvert_exporter": "python",
   "pygments_lexer": "ipython3",
   "version": "3.6.4"
  }
 },
 "nbformat": 4,
 "nbformat_minor": 2
}
